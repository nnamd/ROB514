{
 "cells": [
  {
   "cell_type": "code",
   "execution_count": null,
   "metadata": {
    "deletable": false,
    "editable": false
   },
   "outputs": [],
   "source": [
    "# Initialize Otter\n",
    "import otter\n",
    "grader = otter.Notebook(\"check_matrices.ipynb\")"
   ]
  },
  {
   "cell_type": "markdown",
   "metadata": {},
   "source": [
    "# Instructions\n",
    "\n",
    "Overview slides are here https://docs.google.com/presentation/d/1nTexr-lPdkq3HW4ouzYTa9iEiO-6K7j5ihHvZqixIsM/edit?usp=sharing\n",
    "\n",
    "Slides specific to this assignment are here: https://docs.google.com/presentation/d/1iTi45y5AghMZRgStPX4mPdR7uYFQdRBjaekOW7ESTxM/edit?usp=sharing\n",
    "You will be editing matrix_transforms.py for this assignment\n",
    "\n",
    "This is just setting up (and analyzing) 2 dimensional matrices (rotation, translation, scaling)."
   ]
  },
  {
   "cell_type": "code",
   "execution_count": 1,
   "metadata": {},
   "outputs": [],
   "source": [
    "# Doing the imports for you\n",
    "import numpy as np\n",
    "import matplotlib.pyplot as plt\n",
    "\n",
    "# Since we need so many of the functions in matrix_transforms, I'm using this style of import. Anything with\n",
    "# an mt. in front of it comes from matrix_transforms.py\n",
    "import matrix_transforms as mt\n",
    "\n",
    "# These commands will force JN to actually re-load the external file when you re-execute this import command\n",
    "%load_ext autoreload\n",
    "%autoreload 2\n",
    "\n",
    "# Get rid of annoying exponentials\n",
    "np.set_printoptions(precision=2, suppress='True')"
   ]
  },
  {
   "cell_type": "markdown",
   "metadata": {},
   "source": [
    "# Making matrices \n",
    "This bit of code checks that the make_x_matrix routines (and their corresponding get_x_ routines) are working.\n",
    "\n",
    "You shouldn't have to edit any of this code; just the functions in matrix_transforms.py."
   ]
  },
  {
   "cell_type": "markdown",
   "metadata": {},
   "source": [
    "_Type your answer here, replacing this text._"
   ]
  },
  {
   "cell_type": "code",
   "execution_count": 2,
   "metadata": {
    "tags": []
   },
   "outputs": [
    {
     "name": "stdout",
     "output_type": "stream",
     "text": [
      "Matrix:\n",
      "[[1.  0.  0.1]\n",
      " [0.  1.  0.2]\n",
      " [0.  0.  1. ]]\n",
      "Matrix shape:(3, 3)\n"
     ]
    }
   ],
   "source": [
    "# Should have 0.1 in the upper right corner, with 0.2 in the next row down\n",
    "mat_trans = mt.make_translation_matrix(0.1, 0.2)\n",
    "print(f\"Matrix:\\n{mat_trans}\\nMatrix shape:{mat_trans.shape}\")\n",
    "assert(mat_trans.shape == (3, 3))"
   ]
  },
  {
   "cell_type": "code",
   "execution_count": 3,
   "metadata": {
    "tags": []
   },
   "outputs": [
    {
     "name": "stdout",
     "output_type": "stream",
     "text": [
      "Matrix:\n",
      "[[0.1 0.  0. ]\n",
      " [0.  0.2 0. ]\n",
      " [0.  0.  1. ]]\n",
      "Matrix shape:(3, 3)\n"
     ]
    }
   ],
   "source": [
    "# Should have 0.1 then 0.2 on the diagonal\n",
    "mat_scale = mt.make_scale_matrix(0.1, 0.2)\n",
    "print(f\"Matrix:\\n{mat_scale}\\nMatrix shape:{mat_scale.shape}\")\n",
    "assert(mat_scale.shape == (3, 3))"
   ]
  },
  {
   "cell_type": "code",
   "execution_count": 4,
   "metadata": {
    "tags": []
   },
   "outputs": [
    {
     "name": "stdout",
     "output_type": "stream",
     "text": [
      "Matrix:\n",
      "[[ 0.87 -0.5   0.  ]\n",
      " [ 0.5   0.87  0.  ]\n",
      " [ 0.    0.    1.  ]]\n",
      "Matrix shape:(3, 3)\n"
     ]
    }
   ],
   "source": [
    "# Should have 0.866 on the diagonal, -0.5 and 0.5 on the off-axis\n",
    "mat_rot = mt.make_rotation_matrix(np.pi / 6.0)\n",
    "print(f\"Matrix:\\n{mat_rot}\\nMatrix shape:{mat_rot.shape}\")\n",
    "assert(mat_rot.shape == (3, 3))"
   ]
  },
  {
   "cell_type": "code",
   "execution_count": 5,
   "metadata": {
    "tags": []
   },
   "outputs": [
    {
     "name": "stdout",
     "output_type": "stream",
     "text": [
      "Got back 0.1, 0.2\n"
     ]
    }
   ],
   "source": [
    "# Get back out what you put in\n",
    "dx = 0.1\n",
    "dy = 0.2\n",
    "mat_trans = mt.make_translation_matrix(dx, dy)\n",
    "dx_back, dy_back = mt.get_dx_dy_from_matrix(mat_trans)\n",
    "print(f\"Got back {dx_back}, {dy_back}\")\n",
    "assert(np.isclose(dx, dx_back))\n",
    "assert(np.isclose(dy, dy_back))"
   ]
  },
  {
   "cell_type": "code",
   "execution_count": 6,
   "metadata": {
    "tags": []
   },
   "outputs": [
    {
     "name": "stdout",
     "output_type": "stream",
     "text": [
      "Got back 0.1, 0.2\n"
     ]
    }
   ],
   "source": [
    "# Get back out what you put in\n",
    "sx = 0.1\n",
    "sy = 0.2\n",
    "mat_scale = mt.make_scale_matrix(sx, sy)\n",
    "sx_back, sy_back = mt.get_sx_sy_from_matrix(mat_scale)\n",
    "print(f\"Got back {sx_back}, {sy_back}\")\n",
    "assert(np.isclose(sx, sx_back))\n",
    "assert(np.isclose(sy, sy_back))"
   ]
  },
  {
   "cell_type": "code",
   "execution_count": 19,
   "metadata": {
    "tags": []
   },
   "outputs": [
    {
     "name": "stdout",
     "output_type": "stream",
     "text": [
      "Got back vec [[0.]\n",
      " [1.]\n",
      " [0.]] and [[-1.]\n",
      " [ 0.]\n",
      " [ 0.]]\n"
     ]
    },
    {
     "ename": "AssertionError",
     "evalue": "",
     "output_type": "error",
     "traceback": [
      "\u001b[1;31m---------------------------------------------------------------------------\u001b[0m",
      "\u001b[1;31mAssertionError\u001b[0m                            Traceback (most recent call last)",
      "Cell \u001b[1;32mIn [19], line 10\u001b[0m\n\u001b[0;32m      8\u001b[0m vec_expected_x \u001b[39m=\u001b[39m np\u001b[39m.\u001b[39marray([\u001b[39m0.0\u001b[39m, \u001b[39m1.0\u001b[39m, \u001b[39m0.0\u001b[39m])\n\u001b[0;32m      9\u001b[0m vec_expected_y \u001b[39m=\u001b[39m np\u001b[39m.\u001b[39marray([\u001b[39m-\u001b[39m\u001b[39m1.0\u001b[39m, \u001b[39m0.0\u001b[39m,\u001b[39m0.0\u001b[39m])\n\u001b[1;32m---> 10\u001b[0m \u001b[39massert\u001b[39;00m(np\u001b[39m.\u001b[39mall(np\u001b[39m.\u001b[39misclose(v_new_x, vec_expected_x)))\n\u001b[0;32m     11\u001b[0m \u001b[39massert\u001b[39;00m(np\u001b[39m.\u001b[39mall(np\u001b[39m.\u001b[39misclose(v_new_y, vec_expected_y)))\n\u001b[0;32m     13\u001b[0m theta_back \u001b[39m=\u001b[39m mt\u001b[39m.\u001b[39mget_theta_from_matrix(mat_rot)\n",
      "\u001b[1;31mAssertionError\u001b[0m: "
     ]
    }
   ],
   "source": [
    "# Get back out what you put in\n",
    "theta = np.pi / 2.0\n",
    "mat_rot = mt.make_rotation_matrix(theta)\n",
    "\n",
    "v_new_x, v_new_y = mt.get_axes_from_matrix(mat_rot)\n",
    "print(f\"Got back vec {v_new_x} and {v_new_y}\")\n",
    "\n",
    "vec_expected_x = np.array([0.0, 1.0])\n",
    "vec_expected_y = np.array([-1.0, 0.0])\n",
    "assert(np.all(np.isclose(v_new_x, vec_expected_x)))\n",
    "assert(np.all(np.isclose(v_new_y, vec_expected_y)))\n",
    "\n",
    "theta_back = mt.get_theta_from_matrix(mat_rot)\n",
    "print(f\"Sent {theta} got back {theta_back}\")\n",
    "assert(np.isclose(theta, theta_back))"
   ]
  },
  {
   "cell_type": "code",
   "execution_count": 9,
   "metadata": {
    "tags": []
   },
   "outputs": [
    {
     "name": "stdout",
     "output_type": "stream",
     "text": [
      "[[1. 0. 0.]\n",
      " [0. 1. 0.]\n",
      " [0. 0. 1.]]\n",
      "[[1. 0. 0.]\n",
      " [0. 1. 0.]\n",
      " [0. 0. 1.]]\n",
      "[[ 1. -0.  0.]\n",
      " [-0.  1.  0.]\n",
      " [ 0.  0.  1.]]\n"
     ]
    },
    {
     "data": {
      "text/plain": [
       "True"
      ]
     },
     "execution_count": 9,
     "metadata": {},
     "output_type": "execute_result"
    }
   ],
   "source": [
    "# Call each of the test routines in turn\n",
    "mt.test_matrices()"
   ]
  },
  {
   "cell_type": "code",
   "execution_count": null,
   "metadata": {
    "deletable": false,
    "editable": false
   },
   "outputs": [],
   "source": [
    "grader.check(\"making_matrices\")"
   ]
  },
  {
   "cell_type": "markdown",
   "metadata": {},
   "source": [
    "# Check matrices\n",
    "These are the checks you need to make sure your matrices are what you expect they are (angle-preserving, no mirroring). \n",
    "\n",
    "These are the check_x routines in matrix_transforms.py. Note that this is just test_checks pulled apart into each check call. You don't have to change any of this code; see the slides for what this should output"
   ]
  },
  {
   "cell_type": "code",
   "execution_count": 10,
   "metadata": {
    "tags": []
   },
   "outputs": [
    {
     "name": "stdout",
     "output_type": "stream",
     "text": [
      "[[4. 0. 0.]\n",
      " [0. 1. 0.]\n",
      " [0. 0. 1.]]\n",
      "True\n"
     ]
    }
   ],
   "source": [
    "mat_not_orthonormal = np.identity(3)\n",
    "mat_not_orthonormal[0, 0] = 2.0\n",
    "if mt.check_is_rotation(mat_not_orthonormal, b_print=True):\n",
    "    raise ValueError(f\"Matrix {mat_not_orthonormal} is not orthonormal, should fail length check\")"
   ]
  },
  {
   "cell_type": "code",
   "execution_count": 11,
   "metadata": {
    "tags": []
   },
   "outputs": [
    {
     "name": "stdout",
     "output_type": "stream",
     "text": [
      "[[1.  0.1 0. ]\n",
      " [0.1 1.  0. ]\n",
      " [0.  0.  1. ]]\n",
      "True\n"
     ]
    }
   ],
   "source": [
    "mat_not_orthonormal = np.identity(3)\n",
    "\n",
    "mat_not_orthonormal[1, 1] = np.sqrt(1.0 - 0.1 * 0.1)\n",
    "mat_not_orthonormal[1, 0] = 0.1\n",
    "\n",
    "if mt.check_is_rotation(mat_not_orthonormal, True):\n",
    "    raise ValueError(f\"Matrix {mat} is not orthonormal, should fail orthogonal check\")"
   ]
  },
  {
   "cell_type": "code",
   "execution_count": 12,
   "metadata": {
    "tags": []
   },
   "outputs": [],
   "source": [
    "mat_mirrored = mt.make_scale_matrix(2.0, -1.2)\n",
    "if not mt.check_is_mirrored(mat_mirrored):\n",
    "    raise ValueError(f\"Matrix {mat_mirrored} is mirrored, should return True\")"
   ]
  },
  {
   "cell_type": "code",
   "execution_count": 13,
   "metadata": {
    "tags": []
   },
   "outputs": [
    {
     "name": "stdout",
     "output_type": "stream",
     "text": [
      "[[1.94 0.3  0.  ]] [[-0.49]\n",
      " [ 1.16]\n",
      " [ 0.  ]]\n",
      "Dot Product\n",
      "[[-0.61]]\n",
      "[[False]]\n"
     ]
    }
   ],
   "source": [
    "mat_skewed = mt.make_scale_matrix(2.0, 1.2) @ mt.make_rotation_matrix(0.25)\n",
    "if mt.check_preserves_angles(mat_skewed):\n",
    "    raise ValueError(f\"Matrix {mat_skewed} does NOT preserve angles, should return False\")"
   ]
  },
  {
   "cell_type": "code",
   "execution_count": 14,
   "metadata": {
    "tags": []
   },
   "outputs": [
    {
     "name": "stdout",
     "output_type": "stream",
     "text": [
      "[[ 0.17 -0.1   0.  ]] [[1.  ]\n",
      " [1.73]\n",
      " [0.  ]]\n",
      "Dot Product\n",
      "[[-0.]]\n",
      "[[ True]]\n",
      "[[1.16 1.72 0.36]\n",
      " [1.72 3.01 0.02]\n",
      " [0.36 0.02 1.  ]]\n",
      "False\n"
     ]
    }
   ],
   "source": [
    "mat_is_ok = mt.make_rotation_matrix(np.pi/3.0) @ mt.make_translation_matrix(0.2, -0.3) @ mt.make_rotation_matrix(-np.pi/2.0) @ mt.make_scale_matrix(0.2, 2.0)\n",
    "if mt.check_is_mirrored(mat_is_ok):\n",
    "    raise ValueError(f\"Matrix {mat_is_ok} is NOT mirrored, should return False\")\n",
    "if not mt.check_preserves_angles(mat_is_ok):\n",
    "    raise ValueError(f\"Matrix {mat_is_ok} is angle-preserving, should return True\")\n",
    "if mt.check_is_rotation(mat_is_ok):\n",
    "    raise ValueError(f\"Matrix {mat_is_ok} is NOT orthonormal, should return False\")\n"
   ]
  },
  {
   "cell_type": "code",
   "execution_count": 15,
   "metadata": {
    "tags": []
   },
   "outputs": [
    {
     "name": "stdout",
     "output_type": "stream",
     "text": [
      "[[ 1. -0.  0.]\n",
      " [-0.  1.  0.]\n",
      " [ 0.  0.  1.]]\n",
      "[[1.13 0.01 0.36]\n",
      " [0.01 1.   0.02]\n",
      " [0.36 0.02 1.  ]]\n",
      "False\n"
     ]
    }
   ],
   "source": [
    "mat_is_ortho = mt.make_rotation_matrix(np.pi/3.0) @ mt.make_rotation_matrix(-np.pi/2.0)\n",
    "mat_is_not_ortho = mt.make_rotation_matrix(np.pi/3.0) @ mt.make_translation_matrix(0.2, -0.3) @ mt.make_rotation_matrix(-np.pi/2.0)\n",
    "if not mt.check_is_rotation(mat_is_ortho):\n",
    "    raise ValueError(f\"Matrix {mat_is_ortho} is orthonormal, should return True\")\n",
    "if mt.check_is_rotation(mat_is_not_ortho):\n",
    "    raise ValueError(f\"Matrix {mat_is_not_ortho} is NOT orthonormal, should return False\")"
   ]
  },
  {
   "cell_type": "code",
   "execution_count": null,
   "metadata": {
    "deletable": false,
    "editable": false
   },
   "outputs": [],
   "source": [
    "grader.check(\"check_matrices\")"
   ]
  },
  {
   "cell_type": "markdown",
   "metadata": {},
   "source": [
    "<!-- BEGIN QUESTION -->\n",
    "\n",
    "# Set up the XY matrix for drawing\n",
    "\n",
    "Edit make_matrix_from_sequence to actually build a matrix sequence.\n",
    "Edit make_pts_representing_circle to make a matrix representing the points on the circle,\n",
    "Edit plot_axes_and_circle to create the XY vertices/geometry for drawing a circle.\n",
    "Note that I'm using make_matrix_from_sequence for these examples; it will call the mak"
   ]
  },
  {
   "cell_type": "code",
   "execution_count": 16,
   "metadata": {
    "tags": []
   },
   "outputs": [
    {
     "name": "stdout",
     "output_type": "stream",
     "text": [
      "Matrix:\n",
      "[[1. 0. 0.]\n",
      " [0. 1. 0.]\n",
      " [0. 0. 1.]]\n"
     ]
    }
   ],
   "source": [
    "# Check syntax of call\n",
    "seq_rot_trans = [{\"type\":\"rotate\", \"theta\": np.pi/4.0},\n",
    "                 {\"type\":\"translate\", \"dx\": 1, \"dy\": 2}]\n",
    "\n",
    "mat = mt.make_matrix_from_sequence(seq_rot_trans)\n",
    "print(f\"Matrix:\\n{mat}\")"
   ]
  },
  {
   "cell_type": "code",
   "execution_count": 17,
   "metadata": {
    "tags": []
   },
   "outputs": [
    {
     "ename": "NameError",
     "evalue": "name 'pts' is not defined",
     "output_type": "error",
     "traceback": [
      "\u001b[1;31m---------------------------------------------------------------------------\u001b[0m",
      "\u001b[1;31mNameError\u001b[0m                                 Traceback (most recent call last)",
      "Cell \u001b[1;32mIn [17], line 2\u001b[0m\n\u001b[0;32m      1\u001b[0m \u001b[39m# Check syntax of call\u001b[39;00m\n\u001b[1;32m----> 2\u001b[0m pts \u001b[39m=\u001b[39m mt\u001b[39m.\u001b[39;49mmake_pts_representing_circle(\u001b[39m25\u001b[39;49m)\n\u001b[0;32m      3\u001b[0m \u001b[39mprint\u001b[39m(pts)\n\u001b[0;32m      4\u001b[0m \u001b[39massert\u001b[39;00m(pts\u001b[39m.\u001b[39mshape \u001b[39m==\u001b[39m (\u001b[39m3\u001b[39m, \u001b[39m25\u001b[39m))\n",
      "File \u001b[1;32mc:\\Users\\nnamd\\OneDrive\\Documents\\Projects\\ROB514\\Skills\\matrix_transforms.py:424\u001b[0m, in \u001b[0;36mmake_pts_representing_circle\u001b[1;34m(n_pts)\u001b[0m\n\u001b[0;32m    415\u001b[0m     ts \u001b[39m=\u001b[39m np\u001b[39m.\u001b[39mlinspace(\u001b[39m0\u001b[39m, np\u001b[39m.\u001b[39mpi \u001b[39m*\u001b[39m \u001b[39m2\u001b[39m, n_pts)\n\u001b[0;32m    416\u001b[0m     \u001b[39m# TODO: make a 3 x n_pts array of points for the circle\u001b[39;00m\n\u001b[0;32m    417\u001b[0m     \u001b[39m#   These are the x,y points of a unit circle centered at the origin\u001b[39;00m\n\u001b[0;32m    418\u001b[0m     \u001b[39m#   These are the points that we will draw, both in their original location and in their transformed location\u001b[39;00m\n\u001b[1;32m   (...)\u001b[0m\n\u001b[0;32m    422\u001b[0m     \u001b[39m# Step 3: Do the same for the y values, but set to sin(t)\u001b[39;00m\n\u001b[0;32m    423\u001b[0m \u001b[39m# YOUR CODE HERE\u001b[39;00m\n\u001b[1;32m--> 424\u001b[0m     \u001b[39mreturn\u001b[39;00m pts\n",
      "\u001b[1;31mNameError\u001b[0m: name 'pts' is not defined"
     ]
    }
   ],
   "source": [
    "# Check syntax of call\n",
    "pts = mt.make_pts_representing_circle(25)\n",
    "print(pts)\n",
    "assert(pts.shape == (3, 25))"
   ]
  },
  {
   "cell_type": "code",
   "execution_count": null,
   "metadata": {
    "tags": []
   },
   "outputs": [],
   "source": [
    "# Syntax/draws correctly check (just one plot)\n",
    "fig, axs = plt.subplots(2, 2)\n",
    "\n",
    "\n",
    "axs[0, 0].set_title(\"Rot trans\")\n",
    "mt.plot_axes_and_circle(axs[0, 0], mat)"
   ]
  },
  {
   "cell_type": "markdown",
   "metadata": {},
   "source": [
    "<!-- END QUESTION -->\n",
    "\n",
    "<!-- BEGIN QUESTION -->\n",
    "\n",
    "# Order matters\n",
    "Edit example_order_matters() to create the plot shown in the slides.\n",
    "\n",
    "Which one of these four transformations is NOT angle-preserving? Why?"
   ]
  },
  {
   "cell_type": "code",
   "execution_count": null,
   "metadata": {
    "tags": []
   },
   "outputs": [],
   "source": [
    "mt.example_order_matters()"
   ]
  },
  {
   "cell_type": "code",
   "execution_count": null,
   "metadata": {
    "tags": []
   },
   "outputs": [],
   "source": [
    "# Edit this line of code\n",
    "print(\"?? is NOT angle preserving, because...\")"
   ]
  },
  {
   "cell_type": "markdown",
   "metadata": {},
   "source": [
    "<!-- END QUESTION -->\n",
    "\n",
    "<!-- BEGIN QUESTION -->\n",
    "\n",
    "# Mirroring and skewing\n",
    "In this problem, edit example_weird_geometry to create a mirror and a non-angle preserving matrix. The slides show the ones I made; there are an infinite number of choices. "
   ]
  },
  {
   "cell_type": "code",
   "execution_count": null,
   "metadata": {
    "tags": []
   },
   "outputs": [],
   "source": [
    "mt.example_weird_geometry()"
   ]
  },
  {
   "cell_type": "markdown",
   "metadata": {},
   "source": [
    "<!-- END QUESTION -->\n",
    "\n",
    "<!-- BEGIN QUESTION -->\n",
    "\n",
    "# Geometry is NOT centered around the origin\n",
    "Edit example_uncentered_geometry to create versions of the circle and the zigzag that are in other configurations.\n",
    "- Put the orgin in the lower left (-1, -1), rather than the center. This is a pretty common placement.\n",
    "- Orient so that the \"up\" direction is no longer the y-axis, but is the x-axis. \n",
    "- Do both\n",
    "\n",
    "The matrix transformation applied to the geometry is the SAME for all of these plots - it's represented by the red,blue lines. It's just the geometry that has moved."
   ]
  },
  {
   "cell_type": "code",
   "execution_count": null,
   "metadata": {
    "tags": []
   },
   "outputs": [],
   "source": [
    "mt.example_uncentered_geometry()"
   ]
  },
  {
   "cell_type": "markdown",
   "metadata": {},
   "source": [
    "<!-- END QUESTION -->\n",
    "\n",
    "## Hours and collaborators\n",
    "Required for every assignment - fill out before you hand-in.\n",
    "\n",
    "Listing names and websites helps you to document who you worked with and what internet help you received in the case of any plagiarism issues. You should list names of anyone (in class or not) who has substantially helped you with an assignment - or anyone you have *helped*. You do not need to list TAs.\n",
    "\n",
    "Listing hours helps us track if the assignments are too long."
   ]
  },
  {
   "cell_type": "code",
   "execution_count": null,
   "metadata": {
    "tags": []
   },
   "outputs": [],
   "source": [
    "\n",
    "# List of names (creates a set)\n",
    "worked_with_names = {\"N/A\"}\n",
    "# List of URLS (creates a set)\n",
    "websites = {\"numpy.com\"}\n",
    "# Approximate number of hours, including lab/in-class time\n",
    "hours = 4\n",
    "\n",
    "# for all row, column in all_indices_from_where\n",
    "#.   if this is the column for wrist torque \n",
    "#.      print(f\"Row: {r}, Time step: {c // n_time_steps} Successful y/n: {pick_data[r, -1] == 1}, value: {pick_data[r, c]}\")"
   ]
  },
  {
   "cell_type": "code",
   "execution_count": null,
   "metadata": {
    "deletable": false,
    "editable": false
   },
   "outputs": [],
   "source": [
    "grader.check(\"hours_collaborators\")"
   ]
  },
  {
   "cell_type": "markdown",
   "metadata": {
    "deletable": false,
    "editable": false
   },
   "source": [
    "---\n",
    "\n",
    "To double-check your work, the cell below will rerun all of the autograder tests."
   ]
  },
  {
   "cell_type": "code",
   "execution_count": null,
   "metadata": {
    "deletable": false,
    "editable": false
   },
   "outputs": [],
   "source": [
    "grader.check_all()"
   ]
  },
  {
   "cell_type": "markdown",
   "metadata": {
    "deletable": false,
    "editable": false
   },
   "source": [
    "## Submission\n",
    "\n",
    "Make sure you have run all cells in your notebook in order before running the cell below, so that all images/graphs appear in the output. The cell below will generate a zip file for you to submit. **Please save before exporting!**\n",
    "\n",
    "Submit through gradescope, matrix transforms"
   ]
  },
  {
   "cell_type": "code",
   "execution_count": null,
   "metadata": {
    "deletable": false,
    "editable": false
   },
   "outputs": [],
   "source": [
    "# Save your notebook first, then run this cell to export your submission.\n",
    "grader.export()"
   ]
  },
  {
   "cell_type": "markdown",
   "metadata": {},
   "source": [
    " "
   ]
  }
 ],
 "metadata": {
  "kernelspec": {
   "display_name": "Python 3.10.5 ('venv': venv)",
   "language": "python",
   "name": "python3"
  },
  "language_info": {
   "codemirror_mode": {
    "name": "ipython",
    "version": 3
   },
   "file_extension": ".py",
   "mimetype": "text/x-python",
   "name": "python",
   "nbconvert_exporter": "python",
   "pygments_lexer": "ipython3",
   "version": "3.10.5"
  },
  "otter": {
   "tests": {
    "check_matrices": {
     "name": "check_matrices",
     "points": 3,
     "suites": [
      {
       "cases": [
        {
         "code": ">>> assert(mt.test_checks())\n",
         "hidden": false,
         "locked": false
        }
       ],
       "scored": true,
       "setup": "",
       "teardown": "",
       "type": "doctest"
      }
     ]
    },
    "hours_collaborators": {
     "name": "hours_collaborators",
     "points": 1,
     "suites": [
      {
       "cases": [
        {
         "code": ">>> assert(not \"not filled out\" in worked_with_names)\n",
         "hidden": false,
         "locked": false
        },
        {
         "code": ">>> assert(not \"not filled out\" in websites)\n",
         "hidden": false,
         "locked": false
        },
        {
         "code": ">>> assert(hours > 0)\n",
         "hidden": false,
         "locked": false
        }
       ],
       "scored": true,
       "setup": "",
       "teardown": "",
       "type": "doctest"
      }
     ]
    },
    "making_matrices": {
     "name": "making_matrices",
     "points": 3,
     "suites": [
      {
       "cases": [
        {
         "code": ">>> assert(mt.test_matrices())\n",
         "hidden": false,
         "locked": false
        }
       ],
       "scored": true,
       "setup": "",
       "teardown": "",
       "type": "doctest"
      }
     ]
    }
   }
  },
  "vscode": {
   "interpreter": {
    "hash": "add6292b15fdf9b9acab4fac584a626b4a5484f7588f7a4c7c969246e2b50521"
   }
  }
 },
 "nbformat": 4,
 "nbformat_minor": 2
}
